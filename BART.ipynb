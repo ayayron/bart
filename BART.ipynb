{
 "cells": [
  {
   "cell_type": "markdown",
   "metadata": {},
   "source": [
    "# BART\n",
    "\n",
    "Welcome to analysis of Bay Area Rapid Transit\n",
    "\n",
    "## BART Perks\n",
    "\n",
    "\n",
    "https://bartperks.com/\n",
    "\n",
    "details\n",
    "https://bartperks.com/static/bartperks/files/faq.pdf\n",
    "\n",
    "\n",
    "## BART Data\n",
    "\n",
    "http://www.bart.gov/about/reports/ridership\n",
    "\n",
    "* hourly ridership\n",
    "* station names\n",
    "* annual ridership since 1973\n"
   ]
  },
  {
   "cell_type": "code",
   "execution_count": 2,
   "metadata": {
    "collapsed": false
   },
   "outputs": [],
   "source": [
    "#import dask.dataframe as dd\n",
    "%matplotlib inline\n",
    "import pandas as pd\n",
    "from datetime import datetime"
   ]
  },
  {
   "cell_type": "code",
   "execution_count": 3,
   "metadata": {
    "collapsed": false
   },
   "outputs": [],
   "source": [
    "file_name = \"./data/date-hour-soo-dest-2011.csv\"\n",
    "bart_df = pd.read_csv(file_name, header = None, \n",
    "                      names = [\"Day\", \"Hour\", \"Enter\", \"Exit\", \"Count\"])"
   ]
  },
  {
   "cell_type": "code",
   "execution_count": 4,
   "metadata": {
    "collapsed": false
   },
   "outputs": [],
   "source": [
    "def convert_date(s):\n",
    "    return datetime.strptime(str(s),\"%Y-%m-%d %H\")"
   ]
  },
  {
   "cell_type": "code",
   "execution_count": 5,
   "metadata": {
    "collapsed": false
   },
   "outputs": [],
   "source": [
    "bart_df[\"Day_Hour\"] = bart_df.apply(lambda row: row[\"Day\"] + \" \" + str(row[\"Hour\"]), axis = 1)\n",
    "bart_df[\"Time\"] = bart_df[\"Day_Hour\"].apply(convert_date)\n",
    "bart_df.index = bart_df[\"Time\"]\n",
    "bart_df[\"Day of Week\"] = bart_df[\"Time\"].apply(datetime.weekday)"
   ]
  },
  {
   "cell_type": "code",
   "execution_count": 6,
   "metadata": {
    "collapsed": false
   },
   "outputs": [],
   "source": [
    "day_of_week = bart_df.groupby(\"Day of Week\")\n",
    "hour_index = bart_df.groupby(\"Hour\")"
   ]
  },
  {
   "cell_type": "code",
   "execution_count": null,
   "metadata": {
    "collapsed": false
   },
   "outputs": [],
   "source": [
    "hour_index.plot(kind=\"bar\")"
   ]
  },
  {
   "cell_type": "code",
   "execution_count": 103,
   "metadata": {
    "collapsed": false
   },
   "outputs": [],
   "source": [
    "bart_df[\"Time\"] = bart_df[\"Day_Hour\"].apply(convert_date)\n",
    "bart_df.index = bart_df[\"Time\"]\n",
    "bart_df[\"Day of Week\"] = bart_df[\"Time\"].apply(datetime.weekday)"
   ]
  },
  {
   "cell_type": "code",
   "execution_count": 95,
   "metadata": {
    "collapsed": false
   },
   "outputs": [
    {
     "data": {
      "text/plain": [
       "RangeIndex(start=0, stop=9428124, step=1)"
      ]
     },
     "execution_count": 95,
     "metadata": {},
     "output_type": "execute_result"
    }
   ],
   "source": [
    "bart_df.index"
   ]
  }
 ],
 "metadata": {
  "kernelspec": {
   "display_name": "Python 2",
   "language": "python",
   "name": "python2"
  }
 },
 "nbformat": 4,
 "nbformat_minor": 1
}
